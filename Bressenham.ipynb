{
 "cells": [
  {
   "cell_type": "code",
   "execution_count": 4,
   "id": "caa47589",
   "metadata": {},
   "outputs": [],
   "source": [
    "import matplotlib.pyplot as plt\n"
   ]
  },
  {
   "cell_type": "code",
   "execution_count": 5,
   "id": "2cdc2da6",
   "metadata": {},
   "outputs": [],
   "source": [
    "# from 9,17 to 13,22"
   ]
  },
  {
   "cell_type": "code",
   "execution_count": 6,
   "id": "727bf9b1",
   "metadata": {},
   "outputs": [
    {
     "name": "stdout",
     "output_type": "stream",
     "text": [
      "6\n"
     ]
    }
   ],
   "source": [
    "x1,y1 = 9,17\n",
    "x2,y2= 13,22\n",
    "\n",
    "dx= x2-x1\n",
    "dy= y2-y1\n",
    "p= 2*dy - dx\n",
    "print(p)"
   ]
  },
  {
   "cell_type": "code",
   "execution_count": 12,
   "id": "971acfff",
   "metadata": {},
   "outputs": [],
   "source": [
    "points=[]\n",
    "points.append((x1,y1))\n",
    "\n",
    "xi,yi = x1,y1"
   ]
  },
  {
   "cell_type": "code",
   "execution_count": 15,
   "id": "8980e6c0",
   "metadata": {},
   "outputs": [
    {
     "name": "stdout",
     "output_type": "stream",
     "text": [
      "[(9, 17), (10, 18), (11, 19), (12, 20), (13, 21), (13, 22), (13, 22)]\n"
     ]
    },
    {
     "data": {
      "image/png": "[encoded data removed]",
      "text/plain": [
       "<Figure size 432x288 with 1 Axes>"
      ]
     },
     "metadata": {
      "needs_background": "light"
     },
     "output_type": "display_data"
    }
   ],
   "source": [
    "while xi!=x2 and yi!=y2:\n",
    "    if p<0:\n",
    "        xi=xi+1\n",
    "        p= p + 2*dy\n",
    "    else:\n",
    "        xi= xi+1\n",
    "        yi = yi+1\n",
    "        p = p+ 2*(dy-dx)\n",
    "        \n",
    "        \n",
    "    points.append((xi,yi))\n",
    "    \n",
    "points.append((x2,y2))\n",
    "\n",
    "x= [point[0] for point in points]\n",
    "y= [point[1] for point in points]\n",
    "\n",
    "print(points)\n",
    "\n",
    "plt.plot(x,y,color='r',marker='o')\n",
    "plt.show()\n",
    "    "
   ]
  },
  {
   "cell_type": "code",
   "execution_count": null,
   "id": "be80bd5e",
   "metadata": {},
   "outputs": [],
   "source": []
  }
 ],
 "metadata": {
  "kernelspec": {
   "display_name": "Python 3 (ipykernel)",
   "language": "python",
   "name": "python3"
  },
  "language_info": {
   "codemirror_mode": {
    "name": "ipython",
    "version": 3
   },
   "file_extension": ".py",
   "mimetype": "text/x-python",
   "name": "python",
   "nbconvert_exporter": "python",
   "pygments_lexer": "ipython3",
   "version": "3.9.12"
  }
 },
 "nbformat": 4,
 "nbformat_minor": 5
}
