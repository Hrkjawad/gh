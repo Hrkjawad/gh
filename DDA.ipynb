{
 "cells": [
  {
   "cell_type": "code",
   "execution_count": 5,
   "id": "64fa4403",
   "metadata": {},
   "outputs": [],
   "source": [
    "import matplotlib.pyplot as plt"
   ]
  },
  {
   "cell_type": "code",
   "execution_count": 6,
   "id": "94f7dfb3",
   "metadata": {},
   "outputs": [],
   "source": [
    "# from (1,1) to (4,3)"
   ]
  },
  {
   "cell_type": "code",
   "execution_count": 7,
   "id": "7c7f7d58",
   "metadata": {},
   "outputs": [],
   "source": [
    "x1,y1= 1,1\n",
    "x2,y2 = 4,3"
   ]
  },
  {
   "cell_type": "code",
   "execution_count": 8,
   "id": "f38e8dea",
   "metadata": {},
   "outputs": [
    {
     "name": "stdout",
     "output_type": "stream",
     "text": [
      "0.6666666666666666\n"
     ]
    }
   ],
   "source": [
    "dx = x2-x1\n",
    "dy= y2-y1\n",
    "m= dy/dx\n",
    "print(m)"
   ]
  },
  {
   "cell_type": "code",
   "execution_count": 9,
   "id": "d8aaa5ab",
   "metadata": {},
   "outputs": [],
   "source": [
    "points=[]"
   ]
  },
  {
   "cell_type": "code",
   "execution_count": 11,
   "id": "5067520e",
   "metadata": {},
   "outputs": [
    {
     "name": "stdout",
     "output_type": "stream",
     "text": [
      "[(1, 1), (2, 1.6666666666666665), (3, 2.333333333333333), (4, 2.9999999999999996), (4, 3), (1, 1), (2, 1.6666666666666665), (3, 2.333333333333333), (4, 2.9999999999999996), (4, 3)]\n"
     ]
    },
    {
     "data": {
      "image/png": "[encoded data removed]",
      "text/plain": [
       "<Figure size 432x288 with 1 Axes>"
      ]
     },
     "metadata": {
      "needs_background": "light"
     },
     "output_type": "display_data"
    }
   ],
   "source": [
    "points.append((x1,y1))\n",
    "xi,yi= x1,y1\n",
    "while xi!=x2 and yi!=y2:\n",
    "    if(abs(dx)>=abs(dy)):\n",
    "        xi= xi+1\n",
    "        yi= yi + m\n",
    "    else:\n",
    "        yi=yi+1\n",
    "        xi= xi+ 1/m\n",
    "        \n",
    "        \n",
    "    points.append((xi,yi))\n",
    "    \n",
    "points.append((x2,y2))\n",
    "print(points)\n",
    "   \n",
    "\n",
    "x = [point[0] for point in points]\n",
    "y = [point[1] for point in points]\n",
    "\n",
    "plt.plot(x,y,color='b',marker='o')\n",
    "plt.grid(True)\n",
    "plt.show()"
   ]
  },
  {
   "cell_type": "code",
   "execution_count": null,
   "id": "888c0bdf",
   "metadata": {},
   "outputs": [],
   "source": []
  },
  {
   "cell_type": "code",
   "execution_count": null,
   "id": "4f0ca614",
   "metadata": {},
   "outputs": [],
   "source": []
  }
 ],
 "metadata": {
  "kernelspec": {
   "display_name": "Python 3 (ipykernel)",
   "language": "python",
   "name": "python3"
  },
  "language_info": {
   "codemirror_mode": {
    "name": "ipython",
    "version": 3
   },
   "file_extension": ".py",
   "mimetype": "text/x-python",
   "name": "python",
   "nbconvert_exporter": "python",
   "pygments_lexer": "ipython3",
   "version": "3.9.12"
  }
 },
 "nbformat": 4,
 "nbformat_minor": 5
}
