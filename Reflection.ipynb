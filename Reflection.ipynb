{
 "cells": [
  {
   "cell_type": "code",
   "execution_count": 20,
   "id": "f8f1330a",
   "metadata": {},
   "outputs": [],
   "source": [
    "import matplotlib.pyplot as plt"
   ]
  },
  {
   "cell_type": "code",
   "execution_count": 21,
   "id": "070ec88a",
   "metadata": {},
   "outputs": [],
   "source": [
    "## Reflection among x axis point is (4,5)"
   ]
  },
  {
   "cell_type": "code",
   "execution_count": 22,
   "id": "ae5485d6",
   "metadata": {},
   "outputs": [
    {
     "data": {
      "image/png": "[encoded data removed]",
      "text/plain": [
       "<Figure size 432x288 with 1 Axes>"
      ]
     },
     "metadata": {
      "needs_background": "light"
     },
     "output_type": "display_data"
    }
   ],
   "source": [
    "x,y = 4,5\n",
    "x1,y1= x, -y\n",
    "\n",
    "plt.scatter(x,y,color='b')\n",
    "plt.scatter(x1,y1,color='r')\n",
    "\n",
    "# Show only the x and y axis lines\n",
    "plt.axhline(0, color='black', linewidth=0.8)\n",
    "plt.axvline(0, color='black', linewidth=0.8)\n",
    "\n",
    "plt.show()"
   ]
  },
  {
   "cell_type": "code",
   "execution_count": 23,
   "id": "2d6c3e5a",
   "metadata": {},
   "outputs": [],
   "source": [
    "## Reflection among y axis point is (4,5)\n",
    "## here is have added label to make the graph look better"
   ]
  },
  {
   "cell_type": "code",
   "execution_count": 24,
   "id": "24a26029",
   "metadata": {},
   "outputs": [
    {
     "data": {
      "image/png": "[encoded data removed]",
      "text/plain": [
       "<Figure size 432x288 with 1 Axes>"
      ]
     },
     "metadata": {
      "needs_background": "light"
     },
     "output_type": "display_data"
    }
   ],
   "source": [
    "x, y = 4, 5\n",
    "x1, y1 = -x,y\n",
    "\n",
    "# Create the plot\n",
    "plt.scatter(x, y, color='b', label='(x, y)')\n",
    "plt.scatter(x1, y1, color='r', label='(x1, y1)')\n",
    "\n",
    "# Show only the x and y axis lines\n",
    "plt.axhline(0, color='black', linewidth=0.8)\n",
    "plt.axvline(0, color='black', linewidth=0.8)\n",
    "\n",
    "# Add labels and legend\n",
    "plt.legend()\n",
    "plt.show()"
   ]
  },
  {
   "cell_type": "code",
   "execution_count": 25,
   "id": "4ff64f40",
   "metadata": {},
   "outputs": [],
   "source": [
    "#  Mirroring Across Both Axes for point (4,5)"
   ]
  },
  {
   "cell_type": "code",
   "execution_count": 26,
   "id": "d3e3217e",
   "metadata": {},
   "outputs": [
    {
     "data": {
      "image/png": "[encoded data removed]",
      "text/plain": [
       "<Figure size 432x288 with 1 Axes>"
      ]
     },
     "metadata": {
      "needs_background": "light"
     },
     "output_type": "display_data"
    }
   ],
   "source": [
    "x, y = 4, 5\n",
    "x1, y1 = -x,-y\n",
    "\n",
    "# Create the plot\n",
    "plt.scatter(x, y, color='b', label='(first x, first y)')\n",
    "plt.scatter(x1, y1, color='r', label='(mirrored x, mirrored y)')\n",
    "\n",
    "# Show only the x and y axis lines\n",
    "plt.axhline(0, color='black', linewidth=0.8)\n",
    "plt.axvline(0, color='black', linewidth=0.8)\n",
    "\n",
    "# Add labels and legend\n",
    "plt.legend()\n",
    "plt.show()"
   ]
  },
  {
   "cell_type": "code",
   "execution_count": null,
   "id": "e670992f",
   "metadata": {},
   "outputs": [],
   "source": []
  }
 ],
 "metadata": {
  "kernelspec": {
   "display_name": "Python 3 (ipykernel)",
   "language": "python",
   "name": "python3"
  },
  "language_info": {
   "codemirror_mode": {
    "name": "ipython",
    "version": 3
   },
   "file_extension": ".py",
   "mimetype": "text/x-python",
   "name": "python",
   "nbconvert_exporter": "python",
   "pygments_lexer": "ipython3",
   "version": "3.9.12"
  }
 },
 "nbformat": 4,
 "nbformat_minor": 5
}
